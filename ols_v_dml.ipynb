{
 "cells": [
  {
   "cell_type": "code",
   "execution_count": 1,
   "id": "d74b2302",
   "metadata": {},
   "outputs": [],
   "source": [
    "# Install all the required libraries, including plotting tools\n",
    "# !pip install numpy pandas scikit-learn statsmodels econml lightgbm matplotlib seaborn"
   ]
  },
  {
   "cell_type": "code",
   "execution_count": 2,
   "id": "4242c490",
   "metadata": {},
   "outputs": [],
   "source": [
    "# Necessary imports\n",
    "\n",
    "import numpy as np\n",
    "import pandas as pd\n",
    "import statsmodels.api as sm\n",
    "from lightgbm import LGBMRegressor, LGBMClassifier\n",
    "from econml.dml import LinearDML\n",
    "from sklearn.model_selection import KFold\n",
    "import matplotlib.pyplot as plt\n",
    "import seaborn as sns\n",
    "import warnings\n",
    "\n",
    "warnings.filterwarnings('ignore')"
   ]
  },
  {
   "cell_type": "markdown",
   "id": "5c56f200",
   "metadata": {},
   "source": [
    "## Causal ML:\n",
    "\n",
    "Causal ML particularly useful when:\n",
    "\n",
    "1. Large number of features\n",
    "2. Complex functional form of Confounders.\n",
    "\n",
    "Let's set up the following simulated data to showcase the advantages of Causal ML, more specifically Double-Debiased Machine Learning.\n",
    "\n",
    "## Data Generating Process (DGP)\n",
    "\n",
    "The simulation follows these key steps:\n",
    "\n",
    "### 1. Covariates (Features)\n",
    "First, we generate a matrix of 100 covariates, $\\mathbf{X}$, for each of the $N$ individuals. Each covariate is drawn independently from a standard normal distribution:\n",
    "\n",
    "$$X_{ij} \\sim \\mathcal{N}(0, 1) \\quad \\text{for } j = 0, 1, \\dots, 99$$\n",
    "\n",
    "***\n",
    "\n",
    "### 2. Confounding and Treatment Assignment\n",
    "A complex, non-linear **confounding term**, $C_i$, is created using the first four covariates. This term will influence both the treatment assignment and the outcome, which is the definition of a confounder.\n",
    "\n",
    "The confounding term $C_i$ is defined as:\n",
    "$$C_i = \\sin(2X_{i0}) + \\cos(2X_{i1}) + X_{i2}^3 + 0.5 X_{i3}^2$$\n",
    "The **treatment assignment**, $D_i$, is then determined by a Bernoulli trial where the probability of receiving the treatment (the propensity score, $e(\\mathbf{X}_i)$) is a logistic function of this confounding term.\n",
    "\n",
    "$$P(D_i=1 | \\mathbf{X}_i) = e(\\mathbf{X}_i) = \\frac{1}{1 + \\exp(-1.5(C_i - 0.5))}$$\n",
    "So, $D_i \\sim \\text{Bernoulli}(e(\\mathbf{X}_i))$.\n",
    "\n",
    "***\n",
    "\n",
    "### 3. Outcome Model\n",
    "Finally, the **outcome model** for $Y_i$ is a linear combination of the treatment effect and a function of the covariates, $g(\\mathbf{X}_i)$, plus a random error term.\n",
    "\n",
    "The complete outcome model is:$$Y_i = \\alpha + \\tau D_i + g(\\mathbf{X}_i) + \\epsilon_i$$\n",
    "Where the true ATE is $\\tau = 10$ and the error term is drawn from a standard normal distribution, $\\epsilon_i \\sim \\mathcal{N}(0, 1)$. "
   ]
  },
  {
   "cell_type": "code",
   "execution_count": 3,
   "id": "a31546f4",
   "metadata": {},
   "outputs": [
    {
     "name": "stdout",
     "output_type": "stream",
     "text": [
      "--- Data Simulation Setup ---\n",
      "True Average Treatment Effect (ATE): 10.0\n",
      "Sample size: 100,000\n",
      "Treatment prevalence: 0.523\n",
      "\n"
     ]
    }
   ],
   "source": [
    "# --- 1. Set up a More Robust Simulation ---\n",
    "\n",
    "true_ate = 10.0\n",
    "n_samples = 100000\n",
    "n_features = 100\n",
    "np.random.seed(123)\n",
    "\n",
    "X_data = np.random.normal(0, 1, size=(n_samples, n_features))\n",
    "X = pd.DataFrame(X_data, columns=[f'X{i}' for i in range(n_features)])\n",
    "\n",
    "# --- 2. Define a DGP with STRONGER Confounding ---\n",
    "\n",
    "# This non-linear term will now have a much larger effect\n",
    "confounders = np.sin(X['X0'] * 2) + np.cos(X['X1'] * 2) + (X['X2']**3) + 0.5 * X['X3']**2\n",
    "\n",
    "# Treatment assignment with confounding\n",
    "propensity_score = 1 / (1 + np.exp(-1.5 * (confounders - 0.5)))\n",
    "D = np.random.binomial(1, p=propensity_score)\n",
    "\n",
    "# Outcome model with strong confounding\n",
    "# The key insight: both treatment assignment AND outcome depend on the same confounders\n",
    "g_X = 3 * confounders + 0.5 * X['X4']  # Outcome function depends on confounders\n",
    "Y = true_ate * D + g_X + np.random.normal(0, 1, n_samples)\n",
    "\n",
    "print(\"--- Data Simulation Setup ---\")\n",
    "print(f\"True Average Treatment Effect (ATE): {true_ate}\")\n",
    "print(f\"Sample size: {n_samples:,}\")\n",
    "print(f\"Treatment prevalence: {D.mean():.3f}\\n\")"
   ]
  },
  {
   "cell_type": "markdown",
   "id": "a8c1b2ef",
   "metadata": {},
   "source": [
    "## OLS Estimation:\n",
    "\n",
    "Let's first estimate the model with OLS. . The standard OLS approach models the outcome $Y$ as a linear function of the treatment $D$ and the covariates $\\mathbf{X}$: $$ Y_i = \\alpha + \\tau D_i + \\boldsymbol{\\beta}'\\mathbf{X}_i + u_i $$\n",
    "\n",
    "The coefficient $\\tau$ represents the ATE estimate. The highly non-linear DGP mechanically creates a **OVB**, yielding a biased ATE estimate. The effect of **OVB** is ambiguous, i.e. upward or downward bias. "
   ]
  },
  {
   "cell_type": "code",
   "execution_count": 9,
   "id": "8f536aec",
   "metadata": {},
   "outputs": [
    {
     "name": "stdout",
     "output_type": "stream",
     "text": [
      "--- 1. Naive OLS Results ---\n",
      "Estimated ATE with OLS: 13.8086\n",
      "OLS 95% Confidence Interval: [13.6951, 13.9220]\n",
      "Bias: 3.8086\n"
     ]
    }
   ],
   "source": [
    "# --- 3. Model 1: Naive OLS ---\n",
    "\n",
    "# RHS of estimation equation\n",
    "X_with_const = sm.add_constant(np.c_[D, X])\n",
    "\n",
    "# Instantiate OLS model class and fit the model\n",
    "ols_model = sm.OLS(Y, X_with_const).fit()\n",
    "\n",
    "# Extract ATE parameter\n",
    "ols_ate_estimate = ols_model.params[1]\n",
    "\n",
    "# The treatment effect is the coefficient for D, which should be index 1 (after constant)\n",
    "treatment_param_idx = 1\n",
    "ols_conf_interval = ols_model.conf_int().iloc[treatment_param_idx]\n",
    "\n",
    "print(\"--- 1. Naive OLS Results ---\")\n",
    "print(f\"Estimated ATE with OLS: {ols_ate_estimate:.4f}\")\n",
    "print(f\"OLS 95% Confidence Interval: [{ols_conf_interval[0]:.4f}, {ols_conf_interval[1]:.4f}]\")\n",
    "print(f\"Bias: {ols_ate_estimate - true_ate:.4f}\")"
   ]
  },
  {
   "cell_type": "markdown",
   "id": "473f06e1",
   "metadata": {},
   "source": [
    "## OLS Results:\n",
    "\n",
    "Upward bias in ATE estimates ($\\hat{\\tau} = 13.808>10$), where the bias is $\\hat{\\tau} - \\tau_{\\text{true}} = 3.8$. Now let's look at the result from DML.\n",
    "\n",
    "***"
   ]
  },
  {
   "cell_type": "markdown",
   "id": "b26b138a",
   "metadata": {},
   "source": [
    "## Double/Debiased Machine Learning: Estimation\n",
    "\n",
    "1. Estimate first one flexible model for the outcome only based on confounders ($X_i$) and stores the residuals: $$ \\tilde{Y} = Y - Y_{\\text{predicted}}\\text{.}$$\n",
    "\n",
    "2. Trains a separate model to predict the treatment $D$ on the same confounders and calculates the residuals: $$\\tilde{D} = D - D_{\\text{prediction}}\\text{.}$$ These residuals represent the part of the treatment that is not explained by the confounders.\n",
    "\n",
    "By doing so we remove the effect of confounders on both the **outcome** and **treatment assignment**\n",
    "\n",
    "**CAVEAT**: To avoid overfitting use **K-Fold crossfitting** for the predictions, split data in K-fold and use K-1 fold for training and last fold for predictions iteratively.\n",
    "***"
   ]
  },
  {
   "cell_type": "markdown",
   "id": "f0401d37",
   "metadata": {},
   "source": [
    "## Final Step:\n",
    "\n",
    "**Debiased Estimation**: Run a simple linear regression on just the residuals $\\tilde{Y}$ and $\\tilde{D}$: $$\\tilde{Y_i} = \\beta_0 + \\tau\\tilde{D_i} + \\mu_i.$$ Now $\\hat{\\tau}$ is our ATE coefficient."
   ]
  },
  {
   "cell_type": "code",
   "execution_count": 10,
   "id": "ba0bd266",
   "metadata": {},
   "outputs": [
    {
     "name": "stdout",
     "output_type": "stream",
     "text": [
      "--- 2. Double Machine Learning Results ---\n",
      "Estimated ATE: 9.9842\n",
      "P-value: 0.000000\n",
      "95% Confidence Interval: [9.9619, 10.0065]\n",
      "Bias: -0.0158\n"
     ]
    }
   ],
   "source": [
    "# --- 4. Model 2: Double Machine Learning ---\n",
    "\n",
    "# Instantiating the K-Fold cross-validator\n",
    "cv_splitter = KFold(n_splits=5, shuffle=True, random_state=123)\n",
    "\n",
    "# Instantiate the LinearDML model with LightGBM\n",
    "est_dml = LinearDML(\n",
    "    model_y=LGBMRegressor(\n",
    "        n_estimators=100, \n",
    "        num_leaves=30, \n",
    "        learning_rate=0.1,\n",
    "        random_state=123,\n",
    "        verbosity=-1\n",
    "    ),\n",
    "    model_t=LGBMClassifier(\n",
    "        n_estimators=100, \n",
    "        num_leaves=30, \n",
    "        learning_rate=0.1,\n",
    "        random_state=123,\n",
    "        verbosity=-1\n",
    "    ),\n",
    "    cv=cv_splitter,\n",
    "    discrete_treatment=True,\n",
    "    random_state=123\n",
    ")\n",
    "\n",
    "est_dml.fit(\n",
    "    Y, T=D, X=X\n",
    ")\n",
    "\n",
    "ate_summary = est_dml.ate_inference(X=X)\n",
    "dml_ate_estimate = ate_summary.mean_point\n",
    "dml_ci_lower, dml_ci_upper = ate_summary.conf_int_mean(alpha=0.05)\n",
    "\n",
    "print(\"--- 2. Double Machine Learning Results ---\")\n",
    "print(f\"Estimated ATE: {dml_ate_estimate:.4f}\")\n",
    "print(f\"P-value: {ate_summary.pvalue():.6f}\")\n",
    "print(f\"95% Confidence Interval: [{dml_ci_lower:.4f}, {dml_ci_upper:.4f}]\")\n",
    "print(f\"Bias: {dml_ate_estimate - true_ate:.4f}\")"
   ]
  },
  {
   "cell_type": "markdown",
   "id": "ed4fcac4",
   "metadata": {},
   "source": [
    "## Visualize the Results"
   ]
  },
  {
   "cell_type": "code",
   "execution_count": 15,
   "id": "c1aee1dd",
   "metadata": {},
   "outputs": [
    {
     "data": {
      "image/png": "[encoded data removed]",
      "text/plain": [
       "<Figure size 1200x600 with 1 Axes>"
      ]
     },
     "metadata": {},
     "output_type": "display_data"
    }
   ],
   "source": [
    "# --- 5. Visualize Results ---\n",
    "\n",
    "plt.style.use('default')\n",
    "sns.set_style(\"whitegrid\")\n",
    "\n",
    "fig, ax = plt.subplots(figsize=(12, 6))\n",
    "\n",
    "# Data for plotting\n",
    "methods = ['OLS', 'DML']\n",
    "estimates = [ols_ate_estimate, dml_ate_estimate]\n",
    "ci_lowers = [ols_conf_interval[0], dml_ci_lower]\n",
    "ci_uppers = [ols_conf_interval[1], dml_ci_upper]\n",
    "colors = [\"#ec1800\", \"#0b16e8\"]  # Red for biased, green for unbiased\n",
    "\n",
    "# Create horizontal error bars\n",
    "y_positions = [0, 1]\n",
    "for i, (method, est, ci_low, ci_up, color) in enumerate(zip(methods, estimates, ci_lowers, ci_uppers, colors)):\n",
    "    # Error bar\n",
    "    ax.errorbar(est, y_positions[i], \n",
    "                xerr=[[est - ci_low], [ci_up - est]], \n",
    "                fmt='o', color=color, capsize=8, capthick=2,\n",
    "                markersize=10, linewidth=2, label=f'{method}: {est:.3f}')\n",
    "    \n",
    "    # Add text annotation with the estimate - move OLS estimate further right\n",
    "    x_offset = 17 if i == 0 else 10  # More offset for OLS (first method)\n",
    "    ax.annotate(f'{est:.3f}', (est, y_positions[i]), \n",
    "                xytext=(x_offset, 0), textcoords='offset points', \n",
    "                va='center', fontsize=11, fontweight='bold')\n",
    "\n",
    "# Add vertical line for true ATE\n",
    "ax.axvline(x=true_ate, color='black', linestyle='--', linewidth=2, \n",
    "           label=f'True ATE: {true_ate}', alpha=0.7)\n",
    "\n",
    "# Customize the plot\n",
    "ax.set_yticks(y_positions)\n",
    "ax.set_yticklabels(methods, fontsize=12)\n",
    "ax.set_xlabel('Treatment Effect Estimate', fontsize=14, fontweight='bold')\n",
    "ax.set_title('Comparison of Treatment Effects', \n",
    "             fontsize=16, fontweight='bold', pad=20)\n",
    "\n",
    "# Remove top and right spines\n",
    "ax.spines['top'].set_visible(False)\n",
    "ax.spines['right'].set_visible(False)\n",
    "\n",
    "# Add grid for better readability\n",
    "ax.grid(True, alpha=0.3, axis='x')\n",
    "\n",
    "# Add legend\n",
    "ax.legend(loc='upper right', fontsize=11, frameon=True, fancybox=True, shadow=True)\n",
    "\n",
    "# Set x-axis limits to better show the confidence intervals\n",
    "x_min = min(ci_lowers) - 1\n",
    "x_max = max(ci_uppers) + 1\n",
    "ax.set_xlim(x_min, x_max)\n",
    "\n",
    "# Add some padding to y-axis\n",
    "ax.set_ylim(-0.5, 1.5)\n",
    "\n",
    "plt.tight_layout()\n",
    "plt.show()"
   ]
  }
 ],
 "metadata": {
  "kernelspec": {
   "display_name": "causal_ml",
   "language": "python",
   "name": "python3"
  },
  "language_info": {
   "codemirror_mode": {
    "name": "ipython",
    "version": 3
   },
   "file_extension": ".py",
   "mimetype": "text/x-python",
   "name": "python",
   "nbconvert_exporter": "python",
   "pygments_lexer": "ipython3",
   "version": "3.12.11"
  }
 },
 "nbformat": 4,
 "nbformat_minor": 5
}
